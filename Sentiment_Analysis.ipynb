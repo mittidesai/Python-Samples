{
 "cells": [
  {
   "cell_type": "markdown",
   "metadata": {},
   "source": [
    "# Sentiment Analysis (Trump vs Clinton)"
   ]
  },
  {
   "cell_type": "code",
   "execution_count": 79,
   "metadata": {
    "collapsed": false
   },
   "outputs": [],
   "source": [
    "import pandas as pd\n",
    "from collections import Counter\n",
    "import re\n",
    "import stopwords as st"
   ]
  },
  {
   "cell_type": "markdown",
   "metadata": {},
   "source": [
    "### Run the file 'tweetering.py' and store the contents (tweets) in a text file."
   ]
  },
  {
   "cell_type": "code",
   "execution_count": 90,
   "metadata": {
    "collapsed": false,
    "scrolled": true
   },
   "outputs": [
    {
     "name": "stdout",
     "output_type": "stream",
     "text": [
      "Listening to '#trump' and 'trump' ...\n"
     ]
    }
   ],
   "source": [
    "%run tweetering.py trump 250     #save about 250 tweets containing \"trump\" or \"#trump\""
   ]
  },
  {
   "cell_type": "code",
   "execution_count": 146,
   "metadata": {
    "collapsed": false
   },
   "outputs": [
    {
     "name": "stdout",
     "output_type": "stream",
     "text": [
      "Listening to '#clinton' and 'clinton' ...\n"
     ]
    },
    {
     "ename": "IOError",
     "evalue": "[Errno 28] No space left on device",
     "output_type": "error",
     "traceback": [
      "\u001b[0;31m---------------------------------------------------------------------------\u001b[0m",
      "\u001b[0;31mIOError\u001b[0m                                   Traceback (most recent call last)",
      "\u001b[0;32m/home/miti/spark/python/Python-Projects-master/tweetering.py\u001b[0m in \u001b[0;36m<module>\u001b[0;34m()\u001b[0m\n\u001b[1;32m     80\u001b[0m         \u001b[0mstream\u001b[0m \u001b[0;34m=\u001b[0m \u001b[0mget_stream\u001b[0m\u001b[0;34m(\u001b[0m\u001b[0;34m)\u001b[0m\u001b[0;34m\u001b[0m\u001b[0m\n\u001b[1;32m     81\u001b[0m         \u001b[0;32mprint\u001b[0m\u001b[0;34m(\u001b[0m\u001b[0;34m\"Listening to '%s' and '%s' ...\"\u001b[0m \u001b[0;34m%\u001b[0m\u001b[0;34m(\u001b[0m\u001b[0;34m'#'\u001b[0m \u001b[0;34m+\u001b[0m \u001b[0mword\u001b[0m\u001b[0;34m,\u001b[0m \u001b[0mword\u001b[0m\u001b[0;34m)\u001b[0m\u001b[0;34m)\u001b[0m\u001b[0;34m\u001b[0m\u001b[0m\n\u001b[0;32m---> 82\u001b[0;31m         \u001b[0mstream\u001b[0m\u001b[0;34m.\u001b[0m\u001b[0mfilter\u001b[0m\u001b[0;34m(\u001b[0m\u001b[0mtrack\u001b[0m\u001b[0;34m=\u001b[0m\u001b[0;34m[\u001b[0m\u001b[0;34m'#'\u001b[0m \u001b[0;34m+\u001b[0m \u001b[0mword\u001b[0m\u001b[0;34m,\u001b[0m \u001b[0mword\u001b[0m\u001b[0;34m]\u001b[0m\u001b[0;34m)\u001b[0m\u001b[0;34m\u001b[0m\u001b[0m\n\u001b[0m",
      "\u001b[0;32m/home/miti/.local/lib/python2.7/site-packages/tweepy/streaming.pyc\u001b[0m in \u001b[0;36mfilter\u001b[0;34m(self, follow, track, async, locations, stall_warnings, languages, encoding, filter_level)\u001b[0m\n\u001b[1;32m    443\u001b[0m         \u001b[0mself\u001b[0m\u001b[0;34m.\u001b[0m\u001b[0msession\u001b[0m\u001b[0;34m.\u001b[0m\u001b[0mparams\u001b[0m \u001b[0;34m=\u001b[0m \u001b[0;34m{\u001b[0m\u001b[0;34m'delimited'\u001b[0m\u001b[0;34m:\u001b[0m \u001b[0;34m'length'\u001b[0m\u001b[0;34m}\u001b[0m\u001b[0;34m\u001b[0m\u001b[0m\n\u001b[1;32m    444\u001b[0m         \u001b[0mself\u001b[0m\u001b[0;34m.\u001b[0m\u001b[0mhost\u001b[0m \u001b[0;34m=\u001b[0m \u001b[0;34m'stream.twitter.com'\u001b[0m\u001b[0;34m\u001b[0m\u001b[0m\n\u001b[0;32m--> 445\u001b[0;31m         \u001b[0mself\u001b[0m\u001b[0;34m.\u001b[0m\u001b[0m_start\u001b[0m\u001b[0;34m(\u001b[0m\u001b[0masync\u001b[0m\u001b[0;34m)\u001b[0m\u001b[0;34m\u001b[0m\u001b[0m\n\u001b[0m\u001b[1;32m    446\u001b[0m \u001b[0;34m\u001b[0m\u001b[0m\n\u001b[1;32m    447\u001b[0m     def sitestream(self, follow, stall_warnings=False,\n",
      "\u001b[0;32m/home/miti/.local/lib/python2.7/site-packages/tweepy/streaming.pyc\u001b[0m in \u001b[0;36m_start\u001b[0;34m(self, async)\u001b[0m\n\u001b[1;32m    359\u001b[0m             \u001b[0mself\u001b[0m\u001b[0;34m.\u001b[0m\u001b[0m_thread\u001b[0m\u001b[0;34m.\u001b[0m\u001b[0mstart\u001b[0m\u001b[0;34m(\u001b[0m\u001b[0;34m)\u001b[0m\u001b[0;34m\u001b[0m\u001b[0m\n\u001b[1;32m    360\u001b[0m         \u001b[0;32melse\u001b[0m\u001b[0;34m:\u001b[0m\u001b[0;34m\u001b[0m\u001b[0m\n\u001b[0;32m--> 361\u001b[0;31m             \u001b[0mself\u001b[0m\u001b[0;34m.\u001b[0m\u001b[0m_run\u001b[0m\u001b[0;34m(\u001b[0m\u001b[0;34m)\u001b[0m\u001b[0;34m\u001b[0m\u001b[0m\n\u001b[0m\u001b[1;32m    362\u001b[0m \u001b[0;34m\u001b[0m\u001b[0m\n\u001b[1;32m    363\u001b[0m     \u001b[0;32mdef\u001b[0m \u001b[0mon_closed\u001b[0m\u001b[0;34m(\u001b[0m\u001b[0mself\u001b[0m\u001b[0;34m,\u001b[0m \u001b[0mresp\u001b[0m\u001b[0;34m)\u001b[0m\u001b[0;34m:\u001b[0m\u001b[0;34m\u001b[0m\u001b[0m\n",
      "\u001b[0;32m/home/miti/.local/lib/python2.7/site-packages/tweepy/streaming.pyc\u001b[0m in \u001b[0;36m_run\u001b[0;34m(self)\u001b[0m\n\u001b[1;32m    292\u001b[0m             \u001b[0;31m# call a handler first so that the exception can be logged.\u001b[0m\u001b[0;34m\u001b[0m\u001b[0;34m\u001b[0m\u001b[0m\n\u001b[1;32m    293\u001b[0m             \u001b[0mself\u001b[0m\u001b[0;34m.\u001b[0m\u001b[0mlistener\u001b[0m\u001b[0;34m.\u001b[0m\u001b[0mon_exception\u001b[0m\u001b[0;34m(\u001b[0m\u001b[0mexception\u001b[0m\u001b[0;34m)\u001b[0m\u001b[0;34m\u001b[0m\u001b[0m\n\u001b[0;32m--> 294\u001b[0;31m             \u001b[0;32mraise\u001b[0m \u001b[0mexception\u001b[0m\u001b[0;34m\u001b[0m\u001b[0m\n\u001b[0m\u001b[1;32m    295\u001b[0m \u001b[0;34m\u001b[0m\u001b[0m\n\u001b[1;32m    296\u001b[0m     \u001b[0;32mdef\u001b[0m \u001b[0m_data\u001b[0m\u001b[0;34m(\u001b[0m\u001b[0mself\u001b[0m\u001b[0;34m,\u001b[0m \u001b[0mdata\u001b[0m\u001b[0;34m)\u001b[0m\u001b[0;34m:\u001b[0m\u001b[0;34m\u001b[0m\u001b[0m\n",
      "\u001b[0;31mIOError\u001b[0m: [Errno 28] No space left on device"
     ]
    },
    {
     "data": {
      "text/plain": [
       "<matplotlib.figure.Figure at 0x7f92d9a05210>"
      ]
     },
     "metadata": {},
     "output_type": "display_data"
    }
   ],
   "source": [
    "%run tweetering.py clinton 250      #save about 250 tweets containing \"clinton\" or \"#clinton\""
   ]
  },
  {
   "cell_type": "markdown",
   "metadata": {},
   "source": [
    "### Function to clean a tweet; remove the usernames, urls, numbers etc."
   ]
  },
  {
   "cell_type": "code",
   "execution_count": 92,
   "metadata": {
    "collapsed": false
   },
   "outputs": [],
   "source": [
    "def processTweet(tweet):\n",
    "    \n",
    "  #  if tweet.startswith(\"RT\"):\n",
    "   #     i = tweet.index(':')\n",
    "    #    tweet = tweet[i+2:]\n",
    "    \n",
    "    tweet = tweet.lower()\n",
    "    tweet = re.sub('((www\\.[^\\s]+)|(https?://[^\\s]+))','',tweet)\n",
    "    tweet = re.sub('([0-9]+)','', tweet)\n",
    "    tweet = re.sub('@[^\\s]+','',tweet)\n",
    "    tweet = re.sub('[\\s]+', ' ', tweet)\n",
    "    tweet = re.sub('&amp;', '', tweet)\n",
    "    tweet = re.sub(r'#([^\\s]+)', r'\\1', tweet)\n",
    "    tweet = tweet.strip('\\'\"')\n",
    "    return tweet"
   ]
  },
  {
   "cell_type": "markdown",
   "metadata": {},
   "source": [
    "### A list containing top most words which don't count towards sentiment analysis:"
   ]
  },
  {
   "cell_type": "code",
   "execution_count": 130,
   "metadata": {
    "collapsed": false
   },
   "outputs": [],
   "source": [
    "stoplist = [\"clinton\",\"trump\",\"hillary\",\"donald\",'chair',\"rt\",\":\",\"oh\",\"clinton.\",\"trump,\",\"team\",\".\",\"bill\",\"like\",\"made\",\"now\",\"trump:\",\"via\",\"\\xe2\\x80\\x94\",\"de\",\"\\xe2\\x80\\x93\",\"republican\",\"will\",\"going\",\"-\",\"campaign\",\"election\",\"us\",\"things]\",\"president\",\n",
    "            \"camp\",\"seen\",\"--\",\"boy\",\"scouts\",\",\",\"think\",\"chief\",\"community\",\"sign\",\"every\",\"happened\",\"day.\",\"move\",\"back,\",\"book\",\"sign\",\"well\",\"what\",\"what\",\"see\",\"everyday\",\"sessions\",\"russia\",\"speech\",\"breaking:\",\"tv\",\"november\",\"media\",\"anonymous\",\"video\",\"ng\",\"can\",\"just\",\"girl\",\"calls\",\"ready\",\"trump\\'s\",\"clinton\\'s\",\"saying\",\"really\",\"girl\",\"calls\",\"former\",\"electing\",\"teen\",\n",
    "           \"say\",\"presidential\",\"%\",\"obama\",\"new\",\"take\",\"talk\",\"vote\",\"people\",\"may\",\"watch\",\"test\",\"voters:\",\"must\",\"gop\",\"live\",\"breaks\",\n",
    "           \"poll\",\"yay\",\"one\",\"trump’s\",\"voting\",\"nothing\",\"trans\",\"transgender\",\"'what\",\"trans\",\"comey\",\"guy\",\"still\",\"clinton,\",\"committie\",\"know\",\"judiciary\",\"military\",\"$\",\"house\",\"trump.\",\"real\",\"old\",\"back\"]"
   ]
  },
  {
   "cell_type": "markdown",
   "metadata": {},
   "source": [
    "### Function to read the tweets from the file and convert it into a dictionary of words having their frequency as well:"
   ]
  },
  {
   "cell_type": "code",
   "execution_count": 133,
   "metadata": {
    "collapsed": false
   },
   "outputs": [],
   "source": [
    "def countinfile(filename):\n",
    "    d = {}\n",
    "    stopwords = st.get_stopwords(\"en\") + stoplist\n",
    "    with open(\"trump.txt\", \"r\") as fp:\n",
    "        for line in fp:\n",
    "            line = processTweet(line)\n",
    "            #print line\n",
    "            words = line.strip().split()\n",
    "            for word in words:\n",
    "                try:\n",
    "                    if(word not in stopwords):\n",
    "                        d[word] += 1\n",
    "                except KeyError:\n",
    "                    d[word] = 1\n",
    "    return d"
   ]
  },
  {
   "cell_type": "code",
   "execution_count": 134,
   "metadata": {
    "collapsed": false,
    "scrolled": false
   },
   "outputs": [
    {
     "name": "stderr",
     "output_type": "stream",
     "text": [
      "/home/miti/.local/lib/python2.7/site-packages/ipykernel_launcher.py:11: UnicodeWarning: Unicode equal comparison failed to convert both arguments to Unicode - interpreting them as being unequal\n",
      "  # This is added back by InteractiveShellApp.init_path()\n"
     ]
    }
   ],
   "source": [
    "#dict_clinton = countinfile(\"clinton.txt\")\n",
    "dict_trump = countinfile(\"trump.txt\")"
   ]
  },
  {
   "cell_type": "markdown",
   "metadata": {},
   "source": [
    "### Collecting the 10 most associated words and storing them in a dataframe:"
   ]
  },
  {
   "cell_type": "code",
   "execution_count": 135,
   "metadata": {
    "collapsed": false
   },
   "outputs": [
    {
     "name": "stdout",
     "output_type": "stream",
     "text": [
      "Trump:\n",
      "          Word  Frequency\n",
      "0          ban         80\n",
      "1         fake         75\n",
      "2   apologizes         74\n",
      "3       rights         70\n",
      "4      support         66\n",
      "5      billion         45\n",
      "6        throw         45\n",
      "7       united         44\n",
      "8      russian         42\n",
      "9       graham         42\n",
      "10       human         41\n",
      "11       white         41\n",
      "12       never         40\n",
      "13      news!!         40\n",
      "14    congress         40\n",
      "\n",
      "Clinton:\n",
      "                          Word  Frequency\n",
      "0                        “what        277\n",
      "1                    happened”        267\n",
      "2                      writing        265\n",
      "3                        fight        265\n",
      "4                      forward        263\n",
      "5                        hard,        263\n",
      "6                         hope        261\n",
      "7                      helps.…        258\n",
      "8                      fucking         98\n",
      "9                         fuck         98\n",
      "10  betternamesforhillarysbook         79\n",
      "11                   committee         72\n",
      "12                      comey,         68\n",
      "13                    strategy         59\n",
      "14                       \"what         57\n"
     ]
    }
   ],
   "source": [
    "data1 = Counter(dict_trump).most_common(15)\n",
    "data2 = Counter(dict_clinton).most_common(15)\n",
    "\n",
    "df_trump = pd.DataFrame(data1, columns=[\"Word\",\"Frequency\"])\n",
    "df_clinton = pd.DataFrame(data2, columns=[\"Word\",\"Frequency\"])\n",
    "\n",
    "print \"Trump:\"\n",
    "print df_trump\n",
    "print \"\\nClinton:\"\n",
    "print df_clinton"
   ]
  },
  {
   "cell_type": "markdown",
   "metadata": {},
   "source": [
    "### Assigning positive or negative sentiments to the words:"
   ]
  },
  {
   "cell_type": "code",
   "execution_count": 137,
   "metadata": {
    "collapsed": false,
    "scrolled": true
   },
   "outputs": [
    {
     "name": "stdout",
     "output_type": "stream",
     "text": [
      "Trump:\n",
      "          Word  Frequency  Sentiment\n",
      "0          ban         80         -1\n",
      "1         fake         75         -1\n",
      "2   apologizes         74          1\n",
      "3       rights         70          1\n",
      "4      support         66          1\n",
      "5      billion         45          1\n",
      "6        throw         45         -1\n",
      "7       united         44         -1\n",
      "8      russian         42          1\n",
      "9       graham         42         -1\n",
      "10       human         41         -1\n",
      "11       white         41          1\n",
      "12       never         40         -1\n",
      "13      news!!         40          1\n",
      "14    congress         40          1\n",
      "\n",
      "Clinton:\n",
      "                          Word  Frequency  Sentiment\n",
      "0                        “what        277          0\n",
      "1                    happened”        267          0\n",
      "2                      writing        265          1\n",
      "3                        fight        265         -1\n",
      "4                      forward        263          1\n",
      "5                        hard,        263          1\n",
      "6                         hope        261          1\n",
      "7                      helps.…        258          1\n",
      "8                      fucking         98          1\n",
      "9                         fuck         98         -1\n",
      "10  betternamesforhillarysbook         79         -1\n",
      "11                   committee         72          1\n",
      "12                      comey,         68          1\n",
      "13                    strategy         59          1\n",
      "14                       \"what         57          0\n"
     ]
    }
   ],
   "source": [
    "df_trump[\"Sentiment\"] = [-1,-1,1,1,1,1,-1,-1,1,-1,-1,1,-1,1,1]\n",
    "df_clinton[\"Sentiment\"] = [0,0,1,-1,1,1,1,1,1,-1,-1,1,1,1,0]\n",
    "\n",
    "print \"Trump:\"\n",
    "print df_trump\n",
    "print \"\\nClinton:\"\n",
    "print df_clinton"
   ]
  },
  {
   "cell_type": "markdown",
   "metadata": {},
   "source": [
    "### Calculating the average sentiment value:"
   ]
  },
  {
   "cell_type": "code",
   "execution_count": 138,
   "metadata": {
    "collapsed": false
   },
   "outputs": [
    {
     "name": "stdout",
     "output_type": "stream",
     "text": [
      "Trump's average sentiment: 5.1\n",
      "Clinton's average sentiment: 116.5\n"
     ]
    }
   ],
   "source": [
    "sum1 = 0\n",
    "for i in range(len(df_trump)):\n",
    "    sum1 += df_trump[\"Frequency\"][i] * df_trump[\"Sentiment\"][i]\n",
    "print \"Trump's average sentiment: \" + str(float(sum1) / 10)\n",
    "\n",
    "sum2 = 0\n",
    "for i in range(len(df_clinton)):\n",
    "    sum2 += df_clinton[\"Frequency\"][i] * df_clinton[\"Sentiment\"][i]\n",
    "print \"Clinton's average sentiment: \" + str(float(sum2) / 10)"
   ]
  },
  {
   "cell_type": "markdown",
   "metadata": {},
   "source": [
    "### Seems that there are more chances of Donald Trump to lose over Hillary Clinton according to the worldwide tweets on July 27, 2017."
   ]
  },
  {
   "cell_type": "code",
   "execution_count": null,
   "metadata": {
    "collapsed": false
   },
   "outputs": [],
   "source": []
  },
  {
   "cell_type": "code",
   "execution_count": null,
   "metadata": {
    "collapsed": false
   },
   "outputs": [],
   "source": []
  },
  {
   "cell_type": "code",
   "execution_count": null,
   "metadata": {
    "collapsed": true
   },
   "outputs": [],
   "source": []
  }
 ],
 "metadata": {
  "kernelspec": {
   "display_name": "Python 3",
   "language": "python",
   "name": "python3"
  },
  "language_info": {
   "codemirror_mode": {
    "name": "ipython",
    "version": 2
   },
   "file_extension": ".py",
   "mimetype": "text/x-python",
   "name": "python",
   "nbconvert_exporter": "python",
   "pygments_lexer": "ipython2",
   "version": "2.7.13"
  }
 },
 "nbformat": 4,
 "nbformat_minor": 0
}
